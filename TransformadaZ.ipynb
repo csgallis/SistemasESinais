{
  "cells": [
    {
      "cell_type": "markdown",
      "metadata": {
        "id": "yJtFJDdbhjdG"
      },
      "source": [
        "# Transformada Z\n",
        "\n",
        "Renato Naville Watanabe"
      ]
    },
    {
      "cell_type": "markdown",
      "metadata": {
        "id": "P-WA8KzNhjdL"
      },
      "source": [
        "## Preparação do ambiente"
      ]
    },
    {
      "cell_type": "code",
      "execution_count": null,
      "metadata": {
        "id": "vVUjJnEEhjdL"
      },
      "outputs": [],
      "source": [
        "import numpy as np\n",
        "import matplotlib.pyplot as plt"
      ]
    },
    {
      "cell_type": "markdown",
      "metadata": {
        "id": "ID7KI-WfhjdM"
      },
      "source": [
        "## Definição\n",
        "\n",
        "A **transformada Z** (unilateral) de um sinal discreto $x[n]$ é:\n",
        "\n",
        "$$X(z) = \\displaystyle\\sum_{n=0}^\\infty x[n]z^{-n}$$\n",
        "\n",
        "Repare que a somatória começa de $n=0$. Isso é porque usamos a definição de transformada Z unilateral. Existe uma outra definição (bilateral), menos usada, que começa de $n=-\\infty$. A desvantagem da transformada Z unilateral é que só pode ser utilizada em sistemas causais. Como os sistemas encontrados na prática normalmente são causais, a transformada unilateral é mais usada, devido a sua maior simplicidade."
      ]
    },
    {
      "cell_type": "markdown",
      "metadata": {
        "id": "HMarMewWhjdN"
      },
      "source": [
        "___\n",
        "\n",
        "### Exemplo 1\n",
        "\n",
        "Para o sinal $x[n] = \\left(\\frac{1}{2}\\right)^nu[n]$, a transformda Z é:\n",
        "\n",
        "$X(z) = \\displaystyle\\sum_{n=0}^\\infty\\left(\\frac{1}{2}\\right)^nu[n]z^{-n} =\\displaystyle\\sum_{n=0}^\\infty\\left(\\frac{z^{-1}}{2}\\right)^n$\n",
        "\n",
        "Se $\\left|\\frac{z^{-1}}{2}\\right|<1$ ($|z|>\\frac{1}{2}$) a somatória converge. Esses valores para os quais a transformada Z converge ($|z|>\\frac{1}{2}$ nesse caso) é conhecido como **região de convergência**. A região de convergência tem muita importância prática quando trabalhamos com a transformada Z bilateral, mas pouca importância na transformada Z unilateral. Por esse motivo, não nos preocuparemos com a região de convergência.\n",
        "\n",
        "O somatório acima é a soma de uma série geométrica com razão $\\frac{z^{-1}}{2}$. A soma de série geométrica Então, a transformada Z de $x[n]$ é:\n",
        "\n",
        "$X(z)= \\frac{1}{1-\\frac{z^{-1}}{2}} = \\frac{z}{z-0.5}$\n",
        "\n",
        "---"
      ]
    },
    {
      "cell_type": "markdown",
      "metadata": {
        "id": "u-vuPLX1hjdN"
      },
      "source": [
        "### Transformada Z de alguns sinais\n",
        "\n",
        "- $x[n] = \\delta[n-k]$\n",
        "\n",
        "$X(z) = \\displaystyle\\sum_{n=0}^\\infty\\delta[n-k]z^{-n} = z^{-k}$\n",
        "\n",
        "- $x[n] = u[n]$\n",
        "\n",
        "$X(z) = \\displaystyle\\sum_{n=0}^\\infty u[n]z^{-n} = \\frac{1}{1-z^{-1}} = \\frac{z}{z-1}$\n",
        "\n",
        "\n",
        "\n",
        "Abaixo segue uma tabela com alguns sinais encontrados frequentemente na prática:\n",
        "\n",
        "|$$\\bf{x[n]}$$                        | $$\\bf{X(z)}$$                                                          |\n",
        "|-------------------------------------|------------------------------------------------------------------------|\n",
        "|$\\delta[n]$                          | 1                                                                      |\n",
        "|$\\delta[n-k]$                        | $z^{-n}$                                                               |\n",
        "|$u[n]$                               | $\\frac{z}{z-1}$                                                        |\n",
        "|$u[n-k]$                             | $\\frac{z^{-k}z}{z-1}$                                              |    \n",
        "|$nu[n]$                              | $\\frac{z}{(z-1)^2}$                                                    |\n",
        "|$n^2u[n]$                            | $\\frac{z(z-1)}{(z-1)^3}$                                               |\n",
        "|$n^3u[n]$                            | $\\frac{z(z^2+4z+1)}{(z-1)^4}$                                          |\n",
        "|$\\alpha^nu[n]$                       | $\\frac{z}{z-\\alpha}$                                                   |\n",
        "|$n\\alpha^nu[n]$                      | $\\frac{\\alpha z}{(z-\\alpha)^2}$                                        |\n",
        "|$\\alpha^n\\cos(\\beta n)u[n]$|$\\frac{z(z-\\alpha\\cos(\\beta))}{z^2-2\\alpha\\cos(\\beta)z +\\alpha^2}$|\n",
        "\n",
        "\n",
        "A demonstração de cada um dessas transformadas Z fica como exercício."
      ]
    },
    {
      "cell_type": "markdown",
      "metadata": {
        "id": "NnUy4qeshjdO"
      },
      "source": [
        "## Propriedades da transformada Z\n",
        "\n",
        "\n",
        "### Atraso\n",
        "\n",
        "#### Caso em que $x[n]=0$ para $n<0$:\n",
        "\n",
        "- $x_1[n] = x[n-k]u[n-k]$\n",
        "\n",
        "$X_1(z) = \\displaystyle\\sum_{n=k}^\\infty x[n-k]z^{-n} = \\displaystyle\\sum_{w=0}^\\infty x[w]z^{-w-k} = z^{-k}\\displaystyle\\sum_{w=0}^\\infty x[w]z^{-w}$\n",
        "\n",
        "$\\boxed{X_1(z) =  z^{-k}X(z)}$\n",
        "\n",
        "#### Caso em que $x[n]\\neq 0$ para $n<0$:\n",
        "\n",
        "Essa situação é muito presente quando queremos considerar condições iniciais para resolver equações de diferenças.\n",
        "\n",
        "- $x_1[n] = x[n-k]u[n]$\n",
        "\n",
        "$X_1(z) = \\displaystyle\\sum_{n=k}^\\infty x[n-k]z^{-n} + x[-k] + z^{-1}x[-k+1] + ... + x[-1]z^{-k+1}$\n",
        "\n",
        "$\\boxed{X_1(z) = z^{-k}X(z) + z^{-k}\\displaystyle\\sum_{w=1}^kx[-w]z^{w}}$"
      ]
    },
    {
      "cell_type": "markdown",
      "metadata": {
        "id": "peh0j7plhjdP"
      },
      "source": [
        "### Avanço\n",
        "\n",
        "- $x_1[n] = x[n+k]u[n]$\n",
        "\n",
        "$\\boxed{X_1(z) = z^kX(z) - z^k\\displaystyle\\sum_{n=0}^{k-1}x[n]z^{-n}}$"
      ]
    },
    {
      "cell_type": "markdown",
      "metadata": {
        "id": "eCBsHMyDhjdQ"
      },
      "source": [
        "### Multiplicação por $n$\n",
        "\n",
        "$x_1[n] = nx[n]$\n",
        "\n",
        "$\\displaystyle\\sum_{n=0}^\\infty x[n]z^{-n} = X(z) \\rightarrow \\displaystyle\\sum_{n=0}^\\infty -nx[n]z^{-n-1} = \\frac{dX(z)}{dz} \\rightarrow \\displaystyle\\sum_{n=0}^\\infty nx[n]z^{-n-1} = -\\frac{dX(z)}{dz} \\rightarrow \\displaystyle\\sum_{n=0}^\\infty nx[n]z^{-n} = -z\\frac{dX(z)}{dz} \\rightarrow X_1(z)=z\\frac{dX(z)}{dz}$\n",
        "\n",
        "$\\boxed{X_1(z) = -z\\frac{dX(z)}{dz}}$"
      ]
    },
    {
      "cell_type": "markdown",
      "metadata": {
        "id": "8H9YRCZ1hjdR"
      },
      "source": [
        "### Convolução\n",
        "\n",
        "A transformada Z da convolução entre dois sinais é uma das propriedades mais importantes na análise de sinais e sistemas lineares e invariantes no tempo.\n",
        "\n",
        "$x_3[n] = x_1[n]*x_2[n] = \\displaystyle\\sum_{k=-\\infty}^\\infty x_1[k]x_2[n-k]$\n",
        "\n",
        "Com $x_1[n] = 0$ para $n<0$ e $x_2[n] = 0$ para $n < 0$.\n",
        "\n",
        "Então\n",
        "\n",
        "$x_3[n] = \\displaystyle\\sum_{k=0}^\\infty x_1[k]x_2[n-k]$\n",
        "\n",
        "$X_3(z) = \\displaystyle\\sum_{n=0}^\\infty x_3[n]z^{-n} = \\displaystyle\\sum_{n=0}^\\infty z^{-n}\\displaystyle\\sum_{k=0}^\\infty x_1[k]x_2[n-k] = \\displaystyle\\sum_{k=0}^\\infty x_1[k]\\displaystyle\\sum_{n=0}^\\infty z^{-n}x_2[n-k] = \\displaystyle\\sum_{k=0}^\\infty x_1[k]\\displaystyle\\sum_{r=0}^\\infty z^{-r-k}x_2[r] = \\displaystyle\\sum_{k=0}^\\infty x_1[k]z^{-k}\\displaystyle\\sum_{r=0}^\\infty z^{-r}x_2[r]$\n",
        "\n",
        "Então, a transformada Z da convolução entre dois sinais é a multiplicação das transformadas Z de cada um dos sinais:\n",
        "\n",
        "$\\boxed{X_3(z) = X_1(z)X_2(z)}$"
      ]
    },
    {
      "cell_type": "markdown",
      "metadata": {
        "id": "NzVyoaBGhjdS"
      },
      "source": [
        "### Linearidade\n",
        "\n",
        "A transformada Z é uma operação linear. Ou seja, valem as seguintes propriedades:\n",
        "\n",
        "$$\\mathcal{Z}(x_1[n]) = X_1(z) \\text{ e } \\mathcal{Z}(x_2[n]) = X_2(z)$$\n",
        "\n",
        "Então,\n",
        "\n",
        "$$\\mathcal{Z}(x_1[n]+x_2[n]) = X_1(z) + X_2(z)$$\n",
        "\n",
        "e\n",
        "\n",
        "$$\\mathcal{Z}(\\alpha x_1[n]) = \\alpha X_1(z)$$\n",
        "\n",
        "\n",
        "As provas dessas propriedades saem facilmente considerando que a transformada Z é definida como um somatório, que é linear."
      ]
    },
    {
      "cell_type": "markdown",
      "metadata": {
        "id": "mhY7Fhn7hjdS"
      },
      "source": [
        "## Polos e zeros\n",
        "\n",
        "Na maioria dos sinais encontrados na prática, as transformadas Z encontradas tem a forma de uma função racional (quociente de dois polinômios), na forma:\n",
        "\n",
        "$$X(z) =  \\frac{b_Mz^{-M} +...+b_2z^{-2}+b_1z^{-1} + b_0}{1 + a_{1}z^{-1}+...+a_Nz^{-N}}$$\n",
        "\n",
        "Pelo Teorema Fundamental da Álgebra, qualquer polinômio de grau $n$ tem $n$ raízes, e consequentemente a transformada Z pode ser reescrita da seguinte forma:\n",
        "\n",
        "$X(z) = \\frac{A(z-z_1)(z-z_2)...(z-z_M)}{(z-p_1)(z-p_2)...(z-p_N)}$\n",
        "\n",
        "Os valores $z_i$ são as raízes do polinômio no numerador de $X(z)$. Esses valores são conhecidos como **zeros** de X(z). Os valores $p_i$ são as raízes do polinômio no denominador de $X(z)$. Esses valores são conhecidos como **polos** de X(z). Por fim, $A$ é uma constante.\n",
        "\n"
      ]
    },
    {
      "cell_type": "markdown",
      "metadata": {
        "id": "KuCEMpYWhjdS"
      },
      "source": [
        "---\n",
        "\n",
        "### Exemplo 2\n",
        "\n",
        "Considere a transformada $X(z)$ dada pela seguinte expressão:\n",
        "\n",
        "$$X(z) = \\frac{z^2-0.3z-0.1}{z^3+0.2z^2-0.11z-0.012}$$\n",
        "\n",
        "$X(z)$ pode ser reescrito da seguinte forma, com seus polos e zeros sendo mostrados explicitamente:\n",
        "\n",
        "$$X(z) = \\frac{(z-0.5)(z+0.2)}{(z+0.1)(z+0.4)(z-0.3)}$$\n",
        "\n",
        "\n",
        "\n",
        "---"
      ]
    },
    {
      "cell_type": "markdown",
      "metadata": {
        "id": "Fqo0wRRwhjdS"
      },
      "source": [
        "---\n",
        "\n",
        "### Exemplo 3\n",
        "\n",
        "A transformada z, mostrada abaixo:\n",
        "\n",
        "$X(z) = \\frac{z+0.2}{z^3-0.5z^2+0.33z-0.029}$\n",
        "\n",
        "$X(z)$ pode ser reescrito na forma de polos e zeros como:\n",
        "\n",
        "$X(z) = \\frac{z+0.2}{(z-0.1)(z-0.2 - j0.5)(z-0.2+j0.5)}$\n",
        "\n",
        "---"
      ]
    },
    {
      "cell_type": "markdown",
      "metadata": {
        "id": "s1ORMc3ohjdS"
      },
      "source": [
        "## Exercícios"
      ]
    },
    {
      "cell_type": "markdown",
      "metadata": {
        "id": "1tg-zHEnhjdT"
      },
      "source": [
        "**1)** Encontre a Transformada Z de cada um dos sinais abaixo (usando a definição):\n",
        "\n",
        "a) $x_1[n] = \\delta[n]$                          \n",
        "\n",
        "b) $x_2[n] = u[n-k]$\n",
        "\n",
        "c) $x_3[n] = nu[n]$\n",
        "\n",
        "d) $x_4[n] = n^2u[n]$\n",
        "\n",
        "\n",
        "\n",
        "**2)** Encontre a Transformada Z de cada um dos sinais abaixo (usando a definição):\n",
        "\n",
        "a) $x_1[n] = \\alpha^nu[n]$\n",
        "\n",
        "b) $x_2[n] = n\\alpha^nu[n]$\n",
        "\n",
        "c) $x_3[n] = \\alpha^n\\cos(\\beta n)u[n]$\n",
        "\n",
        "d) $x_4[n] = n^3u[n]$"
      ]
    },
    {
      "cell_type": "markdown",
      "metadata": {
        "id": "ODOK_v63hjdT"
      },
      "source": [
        "**3)** Encontre a transformada Z dos seguintes sinais:\n",
        "\n",
        "a) $x_1[n] = u[n] - u[n-20]$\n",
        "\n",
        "b) $x_2[n] = 0.5^n(u[n]-u[n-15])$\n",
        "\n",
        "c) $x_3[n] = (-0.2)^n(u[n]-u[n-20])$"
      ]
    },
    {
      "cell_type": "markdown",
      "metadata": {
        "id": "vkn69b6uhjdT"
      },
      "source": [
        "**4)** Calcule a transformada Z dos seguintes sinais:\n",
        "\n",
        "a) $x_1[n] = (3^{n-1}-(-3)^{n-1})u[n]$\n",
        "\n",
        "b) $x_2[n] = ne^{-3n}u[n-m]$\n",
        "\n",
        "c) $x_3[n] = 0.2^{n-2}u[n-2]$\n",
        "\n",
        "d) $x_4[n] = \\displaystyle\\sum_{k=0}k\\delta[n-3k + 1]$\n",
        "\n",
        "e) $x_5[n] = n(0.3)^{n}u[n-1]$"
      ]
    },
    {
      "cell_type": "markdown",
      "metadata": {
        "id": "iVT7RHTvhjdT"
      },
      "source": [
        "**5)** Determine a transformada Z do sinal no gráfico abaixo.  Coloque a transformada Z no formato de polos e zeros."
      ]
    },
    {
      "cell_type": "code",
      "execution_count": null,
      "metadata": {
        "id": "s7-sU8SVhjdT",
        "outputId": "850cc445-e7e5-4e41-fa43-234f317bb6cf"
      },
      "outputs": [
        {
          "data": {
            "text/plain": [
              "Text(0, 0.5, 'x[n]')"
            ]
          },
          "execution_count": 2,
          "metadata": {},
          "output_type": "execute_result"
        },
        {
          "data": {
            "image/png": "[encoded data removed]",
            "text/plain": [
              "<Figure size 640x480 with 1 Axes>"
            ]
          },
          "metadata": {},
          "output_type": "display_data"
        }
      ],
      "source": [
        "\n",
        "\n",
        "n = 15\n",
        "x = np.zeros(n)\n",
        "x[0] = 0\n",
        "x[1] = 1\n",
        "x[2] = 2\n",
        "x[3] = 3\n",
        "x[4] = 4\n",
        "x[5] = 5\n",
        "x[6] = 4\n",
        "x[7] = 3\n",
        "x[8] = 2\n",
        "x[9] = 1\n",
        "x[10] = 0\n",
        "x[11] = 0\n",
        "x[12] = 0\n",
        "plt.stem(x)\n",
        "plt.xlabel('n')\n",
        "plt.ylabel('x[n]')\n",
        "\n",
        "\n"
      ]
    },
    {
      "cell_type": "markdown",
      "metadata": {
        "id": "Y16OWeBShjdU"
      },
      "source": [
        "**6)**  Calcule a Transformada Z da saída de estado nulo do sistema com a seguinte resposta ao impulso para as seguintes entradas. Coloque a transformada Z no formato de polos e zeros:\n",
        "\n",
        "$h[n] = 0.5^nu[n] $\n",
        "\n",
        "a) $x_1[n] = 0.5^nu[n]$\n",
        "\n",
        "b) $x_2[n] = u[n]$\n",
        "\n",
        "c) $x_3[n] = \\cos\\left(\\frac{\\pi}{3}n\\right)u[n]$\n",
        "\n"
      ]
    },
    {
      "cell_type": "markdown",
      "metadata": {
        "id": "lIpeIjtMhjdU"
      },
      "source": [
        "**7)** Calcule a Transformada Z da saída de estado nulo do sistema com a seguinte resposta ao impulso para as seguintes entradas. Coloque a transformada Z no formato de polos e zeros:\n",
        "\n",
        "$h[n] = (-0.1)^n\\cos\\left(\\frac{\\pi}{6}n \\right)u[n] $\n",
        "\n",
        "a) $x_1[n] = 0.5^nu[n]$\n",
        "\n",
        "b) $x_2[n] = u[n]$\n",
        "\n",
        "c) $x_3[n] = \\cos\\left(\\frac{\\pi}{3}n\\right)u[n]$\n"
      ]
    },
    {
      "cell_type": "markdown",
      "metadata": {
        "id": "-aVI8OpdhjdU"
      },
      "source": [
        "**8)** Calcule a transformada Z dos seguintes sinais. Dica: lembre-se da série de Taylor.\n",
        "\n",
        "a) $x_1[n] = \\frac{\\alpha^n}{n!}u[n]$\n",
        "\n",
        "b) $x_2[n] = \\frac{(\\ln(\\alpha))^n}{n!}u[n]$\n",
        "\n"
      ]
    },
    {
      "cell_type": "markdown",
      "metadata": {
        "id": "jdA1v32chjdV"
      },
      "source": [
        "**9)** Calcule a transformada Z dos seguintes sinais.  Coloque a transformada Z no formato de polos e zeros:\n",
        "\n",
        "a) $x_1[n] = (2+ 3^n)u[n]$\n",
        "\n",
        "b) $x_2[n] = 2^{n+1}\\cos(n+3)u[n]$\n",
        "\n",
        "c) $x_3[n] = u[n]-u[n-2]$\n",
        "\n",
        "d) $x_4[n] = (-1)^n3^{-n}u[n]$\n",
        "\n",
        "e) $x_5[n] = \\displaystyle\\sum_{k=0}^\\infty3^{3k}\\delta[n-3k]$"
      ]
    },
    {
      "cell_type": "markdown",
      "metadata": {
        "id": "GXV9E42khjdV"
      },
      "source": [
        "## Referências\n",
        "\n",
        "- Ulaby, FT e Yagle, AE, Signals & Systems: Theory and Applications, 2018, [ss2.eecs.umich.edu](ss2.eecs.umich.edu)\n",
        "- Lathi, BP, Sinais e Sistemas Lineares, 2007\n",
        "- Oppenheim, M.  e Willsky, S., Sistemas e Sinais, 2010\n",
        "- Stewart, James. Cálculo - Volume 2, 2017\n",
        "- Brown, James, e Ruel Churchill. Variáveis complexas e aplicações. (9ª edição), 2015."
      ]
    },
    {
      "cell_type": "markdown",
      "metadata": {
        "id": "H10eBvz2hjdV"
      },
      "source": [
        "## Solução dos exercícios"
      ]
    },
    {
      "cell_type": "markdown",
      "source": [
        "**1)** Resolvido por Catherine\n",
        "\n",
        "\n",
        "**a)** A função delta é um sinal discreto que é igual a 1 para $n = 0$ e 0 para todos os outros valores de $n$. Portanto, a sua transformada Z é dada por:\n",
        "\n",
        "$$\\mathcal{Z}[\\delta[n]] = \\sum_{n = -\\infty}^{\\infty} \\delta[n]z^{-n}$$\n",
        "\n",
        "Como $\\delta[n] = 1$ para $n = 0$ e 0 para todos os outros valores de $n$, a soma acima se reduz a:\n",
        "\n",
        "$$\\mathcal{Z}[\\delta[n]] = z^{-0} + \\sum_{n = 1}^{\\infty} 0z^{-n}$$\n",
        "\n",
        "$$\\mathcal{Z}[\\delta[n]] = 1 + 0 = \\frac{1}{1 - z^{-1}}$$\n",
        "\n",
        "**b)** A função unitária atrasada por $k$ é um sinal discreto que é igual a 1 para $n = k$ e 0 para todos os outros valores de $n$. Portanto, a sua transformada Z é dada por:\n",
        "\n",
        "$$\\mathcal{Z}[u[n - k]] = \\sum_{n = -\\infty}^{\\infty} u[n - k]z^{-n}$$\n",
        "\n",
        "Como $u[n - k] = 1$ para $n = k$ e 0 para todos os outros valores de $n$, a soma acima se reduz a:\n",
        "\n",
        "$$\\mathcal{Z}[u[n - k]] = z^{-k} + \\sum_{n = 1}^{\\infty} 0z^{-n}$$\n",
        "\n",
        "$$\\mathcal{Z}[u[n - k]] = z^{-k} = \\frac{z^{-k}}{1 - z^{-1}}$$\n",
        "\n",
        "**c)** A função $nu[n]$ é um sinal discreto que é igual a $n$ para $n = 0$ e 0 para todos os outros valores de $n$. Portanto, a sua transformada Z é dada por:\n",
        "\n",
        "$$\\mathcal{Z}[nu[n]] = \\sum_{n = -\\infty}^{\\infty} nu[n]z^{-n}$$\n",
        "\n",
        "Como $nu[n] = n$ para $n = 0$ e 0 para todos os outros valores de $n$, a soma acima se reduz a:\n",
        "\n",
        "$$\\mathcal{Z}[nu[n]] = nz^{-0} + \\sum_{n = 1}^{\\infty} 0z^{-n}$$\n",
        "\n",
        "$$\\mathcal{Z}[nu[n]] = nz^{-0} = n = \\frac{n}{1 - z^{-1}}$$\n",
        "\n",
        "**d)** A função $n^2u[n]$ é um sinal discreto que é igual a $n^2$ para $n = 0$ e 0 para todos os outros valores de $n$. Portanto, a sua transformada Z é dada por:\n",
        "\n",
        "$$\\mathcal{Z}[n^2u[n]] = \\sum_{n = -\\infty}^{\\infty} n^2u[n]z^{-n}$$\n",
        "\n",
        "Como $n^2u[n] = n^2$ para $n = 0$ e 0 para todos os outros valores de $n$, a soma acima se reduz a:\n",
        "\n",
        "$$\\mathcal{Z}[n^2u[n]] = n^2z^{-0} + \\sum_{n = 1}^{\\infty} 0z^{-n}$$\n",
        "\n",
        "$$\\mathcal{Z}[n^2u[n]] = n^2 = \\frac{n^2}{1 - z^{-1}}$$\n"
      ],
      "metadata": {
        "id": "CyVvtMB-h-tc"
      }
    },
    {
      "cell_type": "markdown",
      "source": [
        "**2)** Resolvido por Catherine\n",
        "\n",
        "\n",
        "**a)**\n",
        "\n",
        "$$\\mathcal{Z}[x_1[n]] = \\sum_{n = -\\infty}^{\\infty} x_1[n]z^{-n} = \\sum_{n = -\\infty}^{\\infty} \\alpha^nu[n]z^{-n}$$\n",
        "\n",
        "Como $x_1[n] = \\alpha^nu[n]$, a soma acima se reduz a:\n",
        "\n",
        "$$\\mathcal{Z}[x_1[n]] = \\alpha^nz^{-0} + \\sum_{n = 1}^{\\infty} 0z^{-n}$$\n",
        "\n",
        "$$\\mathcal{Z}[x_1[n]] = \\alpha^n = \\frac{\\alpha^n}{1 - z^{-1}}$$\n",
        "\n",
        "**b)**\n",
        "\n",
        "$$\\mathcal{Z}[x_2[n]] = \\sum_{n = -\\infty}^{\\infty} x_2[n]z^{-n} = \\sum_{n = -\\infty}^{\\infty} n\\alpha^nu[n]z^{-n}$$\n",
        "\n",
        "Como $x_2[n] = n\\alpha^nu[n]$, a soma acima se reduz a:\n",
        "\n",
        "$$\\mathcal{Z}[x_2[n]] = nz^{-0}\\alpha^n + \\sum_{n = 1}^{\\infty} 0z^{-n}$$\n",
        "\n",
        "$$\\mathcal{Z}[x_2[n]] = nz^{-0}\\alpha^n = nz^{-0}\\alpha^n = \\frac{nz^{-0}\\alpha^n}{1 - z^{-1}}$$\n",
        "\n",
        "**c)**\n",
        "\n",
        "$$\\mathcal{Z}[x_3[n]] = \\sum_{n = -\\infty}^{\\infty} x_3[n]z^{-n} = \\sum_{n = -\\infty}^{\\infty} \\alpha^n\\cos(\\beta n)u[n]z^{-n}$$\n",
        "\n",
        "Como $x_3[n] = \\alpha^n\\cos(\\beta n)u[n]$, a soma acima se reduz a:\n",
        "\n",
        "$$\\mathcal{Z}[x_3[n]] = \\alpha^nz^{-0}\\cos(\\beta) + \\sum_{n = 1}^{\\infty} 0z^{-n}$$\n",
        "\n",
        "$$\\mathcal{Z}[x_3[n]] = \\alpha^n\\cos(\\beta) = \\frac{\\alpha^n\\cos(\\beta)}{1 - z^{-1}}$$\n",
        "\n",
        "**d)**\n",
        "\n",
        "$$\\mathcal{Z}[x_4[n]] = \\sum_{n = -\\infty}^{\\infty} x_4[n]z^{-n} = \\sum_{n = -\\infty}^{\\infty} n^3u[n]z^{-n}$$\n",
        "\n",
        "Como $x_4[n] = n^3u[n]$, a soma acima se reduz a:\n",
        "\n",
        "$$\\mathcal{Z}[x_4[n]] = n^3z^{-0} + \\sum_{n = 1}^{\\infty} 0z^{-n}$$\n",
        "\n",
        "$$\\mathcal{Z}[x_4[n]] = n^3 = \\frac{n^3}{1 - z^{-1}}$$\n"
      ],
      "metadata": {
        "id": "CySCz9R8h_CE"
      }
    },
    {
      "cell_type": "markdown",
      "metadata": {
        "id": "nOf5GBwjhjdW"
      },
      "source": [
        "**3)** Resolvido por JULIANA SOARES DA SILVA DE OLIVEIRA\n",
        "\n",
        "Encontre a transformada Z dos seguintes sinais:\n",
        "\n",
        "a) $x_1[n] = u[n] - u[n-20]$\n",
        "\n",
        "$X_1(z) = \\frac{z}{z-1}-\\frac{z^{-20}z}{z-1} = \\frac{z-z^{-19}}{z-1}$\n",
        "\n",
        "b) $x_2[n] = 0.5^n(u[n]-u[n-15])$\n",
        "\n",
        "$X_2(z) = \\frac{z}{z-0.5}-\\frac{z}{z-0.5}z^{-15} = \\frac{z-z^{-14}}{z-0.5}$\n",
        "\n",
        "c) $x_3[n] = (-0.2)^n(u[n]-u[n-20])$\n",
        "\n",
        "$X_3(z) = \\frac{z}{z+0.2}-\\frac{z}{z+0.2}z^{-20} = \\frac{z-z^{-19}}{z+0.2}$"
      ]
    },
    {
      "cell_type": "markdown",
      "source": [
        "**4)** Resolvido por Catherine\n",
        "\n",
        "\n",
        "\n",
        "**a)**\n",
        "\n",
        "$$x_1[n] = (3^{n-1}-(-3)^{n-1})u[n]$$\n",
        "\n",
        "A transformada Z de $3^{n-1}u[n]$ é $\\frac{3^{n-1}}{1 - z^{-1}}$ e a transformada Z de $(-3)^{n-1}u[n]$ é $\\frac{(-3)^{n-1}}{1 - z^{-1}}$, logo:\n",
        "\n",
        "$$\\mathcal{Z}[x_1[n]] = \\frac{3^{n-1}}{1 - z^{-1}} - \\frac{(-3)^{n-1}}{1 - z^{-1}} = \\frac{6}{1 - z^{-1}}$$\n",
        "\n",
        "**b)**\n",
        "\n",
        "$$x_2[n] = ne^{-3n}u[n-m]$$\n",
        "\n",
        "A transformada Z de $ne^{-3n}u[n]$ é $\\frac{nz^{-m}e^{-3n}}{1 - z^{-3}}$, logo:\n",
        "\n",
        "$$\\mathcal{Z}[x_2[n]] = \\frac{nz^{-m}e^{-3n}}{1 - z^{-3}}$$\n",
        "\n",
        "**c)**\n",
        "\n",
        "$$x_3[n] = 0.2^{n-2}u[n-2]$$\n",
        "\n",
        "A transformada Z de $0.2^{n-2}u[n]$ é $\\frac{0.2^{n-2}}{1 - 0.2z^{-1}}$, logo:\n",
        "\n",
        "$$\\mathcal{Z}[x_3[n]] = \\frac{0.2^{n-2}}{1 - 0.2z^{-1}}$$\n",
        "\n",
        "**d)**\n",
        "\n",
        "$$x_4[n] = \\displaystyle\\sum_{k=0}k\\delta[n-3k + 1]$$\n",
        "\n",
        "A transformada Z de $\\delta[n-3k + 1]$ é $z^{-3k + 1}$, logo:\n",
        "\n",
        "$$\\mathcal{Z}[x_4[n]] = \\displaystyle\\sum_{k=0}k(z^{-3k + 1}) = \\frac{z}{(1 - z^{-3})^2}$$\n",
        "\n",
        "**e)**\n",
        "\n",
        "$$x_5[n] = n(0.3)^{n}u[n-1]$$\n",
        "\n",
        "A transformada Z de $n(0.3)^{n}u[n]$ é $\\frac{nz^{n}(0.3)^{n}}{1 - 0.3z^{-1}}$, logo:\n",
        "\n",
        "$$\\mathcal{Z}[x_5[n]] = \\frac{nz^{n}(0.3)^{n}}{1 - 0.3z^{-1}}$$\n",
        "\n"
      ],
      "metadata": {
        "id": "GRmHovazk3fg"
      }
    },
    {
      "cell_type": "markdown",
      "metadata": {
        "id": "yjsptNW8hjdW"
      },
      "source": [
        "**6)** Resolvido por JULIANA SOARES DA SILVA DE OLIVEIRA\n",
        "\n",
        "$h[n] = 0.5^nu[n]$\n",
        "\n",
        "a) $x_1[n] = 0.5^nu[n]$\n",
        "\n",
        "$Y_1(z) = \\frac{z}{z-0.5}\\frac{z}{z-0.5} = \\frac{z^2}{(z-0.5)^2}$\n",
        "\n",
        "$→$ Polos: $0.5$\n",
        "\n",
        "\n",
        "b) $x_2[n] = u[n]$\n",
        "\n",
        "$Y_2(z) = \\frac{z}{z-0.5}\\frac{z}{z-1} = \\frac{z^2}{(z-0.5)(z-1)}$\n",
        "\n",
        "$→$ Polos: $0.5$ e $1$\n",
        "\n",
        "\n",
        "c) $x_3[n] = \\cos\\left(\\frac{\\pi}{3}n\\right)u[n]$\n",
        "\n",
        "$Y_3(z) = \\frac{z}{z-0.5}\\frac{z(z-\\cos(\\frac{\\pi}{3}))}{z^2-2\\cos(\\frac{\\pi}{3})z+1} = \\frac{z^3-0.5z^2}{(z-0.5)(z^2-z+1)}$\n",
        "\n",
        "$→$ Polos: $0.5$, $j\\frac{\\sqrt{3}}{2}$ e $-j\\frac{\\sqrt{3}}{2}$"
      ]
    },
    {
      "cell_type": "markdown",
      "metadata": {
        "id": "Pj0DZDoDhjdW"
      },
      "source": [
        "**7)** Resolvido por CAROLINA KAFKA NEVES\n",
        "\n",
        "$H(z)= \\frac{z^{2}+0.1zcos(\\frac{\\pi}{6})}{z^{2}+0.2zcos(\\frac{\\pi}{6})+0.01}$\n",
        "\n",
        "a) $x_1[n] = 0.5^nu[n]$\n",
        "\n",
        "$Y_1(z)= \\frac{z^{2}+0.1zcos(\\frac{\\pi}{6})}{z^{2}+0.2zcos(\\frac{\\pi}{6})+0.01}\\frac{z}{z-0.5}= \\frac{z^{2}(z+0.0866)}{(z-0.5)(z+0.0866+0.05j)(z+0.0866-0.05j)}$\n",
        "\n",
        "$→$ Zeros: $z_1=z_2=0$ e $z_3= -0.0866$\n",
        "\n",
        "$→$ Polos: $p_1= 0.5$, $p_2= -0.0866-0.05j$ e $p_3= -0.0866+0.05j$\n",
        "\n",
        "b) $x_2[n] = u[n]$\n",
        "\n",
        "$Y_2(z)= \\frac{z^{2}+0.1zcos(\\frac{\\pi}{6})}{z^{2}+0.2zcos(\\frac{\\pi}{6})+0.01}\\frac{z}{z-1}= \\frac{z^{2}(z+0.0866)}{(z-1)(z+0.0866+0.05j)(z+0.0866-0.05j)}$\n",
        "\n",
        "$→$ Zeros: $z_1=z_2=0$ e $z_3= -0.0866$\n",
        "\n",
        "$→$ Polos: $p_1= 1$, $p_2= -0.0866-0.05j$ e $p_3= -0.0866+0.05j$\n",
        "\n",
        "\n",
        "c) $x_3[n] = \\cos\\left(\\frac{\\pi}{3}n\\right)u[n]$\n",
        "\n",
        "$Y_3(z)= \\frac{z^{2}+0.1zcos(\\frac{\\pi}{6})}{z^{2}+0.2zcos(\\frac{\\pi}{6})+0.01}\\frac{z^{2}-cos(\\frac{\\pi}{3})z}{z^{2}-2cos(\\frac{\\pi}{3})z+1}= \\frac{z^{2}(z+0.0866)(z+0.5)}{(z+0.0866+0.05j)(z+0.0866-0.05j)(z+0.5-0.705j)(z+0.5+0.705j)}$\n",
        "\n",
        "$→$ Zeros: $z_1=z_2=0$, $z_3= -0.0866$ e $z_4= -0.5$\n",
        "\n",
        "$→$ Polos: $p_1= -0.0866-0.05j$, $p_2= -0.0866+0.05j$, $p_3=-0.5+0.705j$ e $p_4= -0.5+0.705j$"
      ]
    },
    {
      "cell_type": "markdown",
      "source": [
        "**8)** Resolvido por Catherine\n",
        "\n",
        "\n",
        "**a)**\n",
        "\n",
        "$$x_1[n] = \\frac{\\alpha^n}{n!}u[n]$$\n",
        "\n",
        "A série de Taylor para $\\exp(x)$ é:\n",
        "\n",
        "$$\\exp(x) = 1 + x + \\frac{x^2}{2!} + \\frac{x^3}{3!} + ...$$\n",
        "\n",
        "Substituindo $x = \\ln(\\alpha)$:\n",
        "\n",
        "$$\\exp(\\ln(\\alpha)) = \\alpha = 1 + \\ln(\\alpha) + \\frac{(\\ln(\\alpha))^2}{2!} + \\frac{(\\ln(\\alpha))^3}{3!} + ...$$\n",
        "\n",
        "Aplicando a propriedade da convolução:\n",
        "\n",
        "$$\\mathcal{Z}[x_1[n]] = \\mathcal{Z}[e^{n\\ln(\\alpha)}u[n]]$$\n",
        "\n",
        "$$\\mathcal{Z}[x_1[n]] = \\mathcal{Z}[e^{\\ln(\\alpha)}u[n]] \\star \\mathcal{Z}[u[n]]$$\n",
        "\n",
        "$$\\mathcal{Z}[x_1[n]] = \\frac{\\alpha}{1 - z^{-1}} \\star \\frac{1}{1 - z^{-1}}$$\n",
        "\n",
        "$$\\mathcal{Z}[x_1[n]] = \\frac{\\alpha}{(1 - z^{-1})^2}$$\n",
        "\n",
        "Portanto, a transformada Z de $x_1[n]$ é $\\frac{\\alpha}{(1 - z^{-1})^2}$.\n",
        "\n",
        "**b)**\n",
        "\n",
        "$$x_2[n] = \\frac{(\\ln(\\alpha))^n}{n!}u[n]$$\n",
        "\n",
        "Aplicando a propriedade da derivação:\n",
        "\n",
        "$$\\mathcal{Z}[x_2[n]] = \\mathcal{Z}\\left[ \\frac{d^n}{dn^n} \\left( \\frac{\\alpha^n}{n!}u[n] \\right) \\right]$$\n",
        "\n",
        "$$\\mathcal{Z}[x_2[n]] = \\frac{d^n}{dn^n} \\left( \\frac{\\alpha^n}{(1 - z^{-1})^2} \\right)$$\n",
        "\n",
        "$$\\mathcal{Z}[x_2[n]] = \\frac{n! \\alpha^n}{(1 - z^{-1})^n}$$\n",
        "\n",
        "Portanto, a transformada Z de $x_2[n]$ é $\\frac{n! \\alpha^n}{(1 - z^{-1})^n}$.\n"
      ],
      "metadata": {
        "id": "Jzyms__FnQ0W"
      }
    },
    {
      "cell_type": "markdown",
      "source": [
        "**9)** Resolvido por Catherine\n",
        "\n",
        "**a)**\n",
        "\n",
        "$$x_1[n] = (2+ 3^n)u[n]$$\n",
        "\n",
        "A transformada Z de $2u[n]$ é $\\frac{2}{1 - z^{-1}}$ e a transformada Z de $3^nu[n]$ é $\\frac{3^n}{1 - 3z^{-1}}$, logo:\n",
        "\n",
        "$$\\mathcal{Z}[x_1[n]] = \\frac{2 + 3^n}{1 - z^{-1}} + \\frac{3^n}{1 - 3z^{-1}}$$\n",
        "\n",
        "**b)**\n",
        "\n",
        "$$x_2[n] = 2^{n+1}\\cos(n+3)u[n]$$\n",
        "\n",
        "A transformada Z de $2^{n+1}u[n]$ é $\\frac{2^{n+1}}{1 - 2z^{-1}}$ e a transformada Z de $\\cos(n+3)u[n]$ é $\\frac{1}{1 - 2z^{-1} - z^2}$, logo:\n",
        "\n",
        "$$\\mathcal{Z}[x_2[n]] = \\frac{2^{n+1}}{1 - 2z^{-1}} \\cdot \\frac{1}{1 - 2z^{-1} - z^2}$$\n",
        "\n",
        "**c)**\n",
        "\n",
        "$$x_3[n] = u[n]-u[n-2]$$\n",
        "\n",
        "A transformada Z de $u[n]$ é $\\frac{1}{1 - z^{-1}}$ e a transformada Z de $u[n-2]$ é $\\frac{z^{-2}}{1 - z^{-1}}$, logo:\n",
        "\n",
        "$$\\mathcal{Z}[x_3[n]] = \\frac{1}{1 - z^{-1}} - \\frac{z^{-2}}{1 - z^{-1}} = \\frac{z^{-2} - 1}{1 - z^{-1}}$$\n",
        "\n",
        "**d)**\n",
        "\n",
        "$$x_4[n] = (-1)^n3^{-n}u[n]$$\n",
        "\n",
        "A transformada Z de $(-1)^nu[n]$ é $\\frac{(-1)^n}{1 - z^{-1}}$ e a transformada Z de $3^{-n}u[n]$ é $\\frac{3^{-n}}{1 - 3z^{-1}}$, logo:\n",
        "\n",
        "$$\\mathcal{Z}[x_4[n]] = \\frac{(-1)^n}{1 - z^{-1}} \\cdot \\frac{3^{-n}}{1 - 3z^{-1}} = \\frac{(-1)^n3^{-n}}{1 - z^{-1}(1 - 3z^{-1})} = \\frac{(-1)^n3^{-n}}{(z - 1)(z + 3)}$$\n",
        "\n",
        "**e)**\n",
        "\n",
        "$$x_5[n] = \\displaystyle\\sum_{k=0}^\\infty3^{3k}\\delta[n-3k]$$\n",
        "\n",
        "A transformada Z de $\\delta[n-3k]$ é $\\frac{1}{z - 3^k}$, logo:\n",
        "\n",
        "$$\\mathcal{Z}[x_5[n]] = \\displaystyle\\sum_{k=0}^\\infty\\frac{3^{3k}}{z - 3^k} = \\frac{1}{(z - 1)(z - 3)^2}$$\n"
      ],
      "metadata": {
        "id": "NisJSBTpnewZ"
      }
    },
    {
      "cell_type": "code",
      "execution_count": null,
      "metadata": {
        "id": "-CwfDwdGhjdW"
      },
      "outputs": [],
      "source": []
    }
  ],
  "metadata": {
    "kernelspec": {
      "display_name": "Python 3 (ipykernel)",
      "language": "python",
      "name": "python3"
    },
    "language_info": {
      "codemirror_mode": {
        "name": "ipython",
        "version": 3
      },
      "file_extension": ".py",
      "mimetype": "text/x-python",
      "name": "python",
      "nbconvert_exporter": "python",
      "pygments_lexer": "ipython3",
      "version": "3.10.12"
    },
    "colab": {
      "provenance": []
    }
  },
  "nbformat": 4,
  "nbformat_minor": 0
}